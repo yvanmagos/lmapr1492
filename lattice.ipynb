{
 "cells": [
  {
   "cell_type": "code",
   "execution_count": 57,
   "metadata": {},
   "outputs": [],
   "source": [
    "from pymatgen.ext.matproj import MPRester\n",
    "from pymatgen.io.cif import CifWriter\n",
    "from pymatgen.symmetry.analyzer import SpacegroupAnalyzer\n",
    "from pymatgen.core.lattice import Lattice "
   ]
  },
  {
   "cell_type": "code",
   "execution_count": 58,
   "metadata": {},
   "outputs": [],
   "source": [
    "api_key=\"An68GpwSiKdQlBoZ\"\n",
    "m=MPRester(api_key)\n",
    "struc = m.get_structure_by_material_id(\"mp-2133\", False)\n",
    "CifWriter(struct=struc, symprec=1e-5).write_file('ZnO.cif')"
   ]
  },
  {
   "cell_type": "code",
   "execution_count": 59,
   "metadata": {},
   "outputs": [],
   "source": [
    "dLat = struc.lattice\n",
    "rLat = struc.lattice.reciprocal_lattice"
   ]
  },
  {
   "cell_type": "code",
   "execution_count": 60,
   "metadata": {},
   "outputs": [
    {
     "name": "stdout",
     "output_type": "stream",
     "text": [
      "Les vecteurs de base du réseau direct (A B C)\n"
     ]
    },
    {
     "data": {
      "text/plain": [
       "Lattice\n",
       "    abc : 3.1841 3.1841000015674794 5.1551\n",
       " angles : 90.0 90.0 119.99999998371541\n",
       " volume : 45.26276950775142\n",
       "      A : 3.1841 0.0 0.0\n",
       "      B : -1.59205 2.75751149 0.0\n",
       "      C : 0.0 0.0 5.1551"
      ]
     },
     "execution_count": 60,
     "metadata": {},
     "output_type": "execute_result"
    }
   ],
   "source": [
    "print(\"Les vecteurs de base du réseau direct (A B C):\")\n",
    "dLat"
   ]
  },
  {
   "cell_type": "code",
   "execution_count": 61,
   "metadata": {},
   "outputs": [
    {
     "name": "stdout",
     "output_type": "stream",
     "text": [
      "Les vecteurs de base du réseau réciproque (A B C):\n"
     ]
    },
    {
     "data": {
      "text/plain": [
       "Lattice\n",
       "    abc : 2.2785708538508005 2.278570852729098 1.218828986281466\n",
       " angles : 90.0 90.0 60.000000016284595\n",
       " volume : 5.480226158055109\n",
       "      A : 1.9733002440814 1.139285426364549 0.0\n",
       "      B : 0.0 2.278570852729098 0.0\n",
       "      C : 0.0 0.0 1.218828986281466"
      ]
     },
     "execution_count": 61,
     "metadata": {},
     "output_type": "execute_result"
    }
   ],
   "source": [
    "print(\"Les vecteurs de base du réseau réciproque (A B C):\")\n",
    "rLat"
   ]
  },
  {
   "cell_type": "code",
   "execution_count": 62,
   "metadata": {},
   "outputs": [],
   "source": [
    "SpaceA = SpacegroupAnalyzer(struc)\n",
    "SystCrist = SpaceA.get_crystal_system()\n",
    "Maille = SpaceA.get_lattice_type()\n",
    "GroupePonct = SpaceA.get_point_group_symbol()"
   ]
  },
  {
   "cell_type": "code",
   "execution_count": 63,
   "metadata": {},
   "outputs": [
    {
     "name": "stdout",
     "output_type": "stream",
     "text": [
      "type de maille:\n"
     ]
    },
    {
     "data": {
      "text/plain": [
       "'hexagonal'"
      ]
     },
     "execution_count": 63,
     "metadata": {},
     "output_type": "execute_result"
    }
   ],
   "source": [
    "print(\"type de maille:\")\n",
    "Maille"
   ]
  },
  {
   "cell_type": "code",
   "execution_count": 64,
   "metadata": {
    "scrolled": true
   },
   "outputs": [
    {
     "name": "stdout",
     "output_type": "stream",
     "text": [
      "Système cristallin:\n"
     ]
    },
    {
     "data": {
      "text/plain": [
       "'hexagonal'"
      ]
     },
     "execution_count": 64,
     "metadata": {},
     "output_type": "execute_result"
    }
   ],
   "source": [
    "print(\"Système cristallin:\")\n",
    "SystCrist"
   ]
  },
  {
   "cell_type": "code",
   "execution_count": 65,
   "metadata": {},
   "outputs": [
    {
     "name": "stdout",
     "output_type": "stream",
     "text": [
      "Groupe ponctuel:\n"
     ]
    },
    {
     "data": {
      "text/plain": [
       "'6mm'"
      ]
     },
     "execution_count": 65,
     "metadata": {},
     "output_type": "execute_result"
    }
   ],
   "source": [
    "print(\"Groupe ponctuel:\")\n",
    "GroupePonct"
   ]
  }
 ],
 "metadata": {
  "kernelspec": {
   "display_name": "Python 3",
   "language": "python",
   "name": "python3"
  },
  "language_info": {
   "codemirror_mode": {
    "name": "ipython",
    "version": 3
   },
   "file_extension": ".py",
   "mimetype": "text/x-python",
   "name": "python",
   "nbconvert_exporter": "python",
   "pygments_lexer": "ipython3",
   "version": "3.6.8"
  }
 },
 "nbformat": 4,
 "nbformat_minor": 2
}
